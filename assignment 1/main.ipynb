{
 "cells": [
  {
   "cell_type": "code",
   "execution_count": 1,
   "metadata": {},
   "outputs": [
    {
     "name": "stdout",
     "output_type": "stream",
     "text": [
      "[0, 0]\n",
      "[0, 1, 1, 2, 3, 5, 8, 3, 1, 4, 5, 9, 4, 3, 7, 0, 7, 7, 4, 1, 5, 6, 1, 7, 8, 5, 3, 8, 1, 9, 0, 9, 9, 8, 7, 5, 2, 7, 9, 6, 5, 1, 6, 7, 3, 0, 3, 3, 6, 9, 5, 4, 9, 3, 2, 5, 7, 2, 9, 1]\n",
      "[0, 2, 2, 4, 6, 0, 6, 6, 2, 8, 0, 8, 8, 6, 4, 0, 4, 4, 8, 2]\n",
      "[0, 5, 5]\n",
      "[1, 3, 4, 7, 1, 8, 9, 7, 6, 3, 9, 2]\n",
      "[2, 6, 8, 4]\n",
      "Number of unique bracelets = 6\n"
     ]
    }
   ],
   "source": [
    "# Code for the number bracelet problem:\n",
    "# Start with any two numbers less than 10 (0-9).\n",
    "# Define the next number as the sum of the previous two modulo 10 and continue this pattern.\n",
    "# How many different bracelets are there?\n",
    "\n",
    "# Calculate the next number in the bracelet\n",
    "def next_num(a, b):\n",
    "    return (a + b) % 10\n",
    "\n",
    "# Generate a bracelet starting with a and b\n",
    "def create_bracelet(a, b):\n",
    "    bracelet = [a, b]\n",
    "    while True:\n",
    "        num = next_num(bracelet[-1], bracelet[-2])\n",
    "        # Check if adding this number completes the bracelet\n",
    "        if num == bracelet[0] and next_num(num, bracelet[-1]) == bracelet[1]:\n",
    "            break\n",
    "        bracelet.append(num)\n",
    "    return bracelet\n",
    "\n",
    "\n",
    "# Check if two bracelets are the same by checking if the ordered pair (a_0, a_1) appears anywhere in bracelet b\n",
    "def is_same_bracelet(a, b):\n",
    "    if len(a) != len(b):\n",
    "        return False\n",
    "\n",
    "    n = len(a)\n",
    "    for i in range(n):\n",
    "        if b[i:i + 2] == a[:2]:  # Compare first two elements in order\n",
    "            return True\n",
    "\n",
    "    # Check boundary case\n",
    "    if [b[-1], b[0]] == a[:2]:\n",
    "        return True\n",
    "    return False\n",
    "\n",
    "\n",
    "# Systematically generate all bracelets (containing duplicates)\n",
    "def generate_bracelets():\n",
    "    all_bracelets = []\n",
    "    for a in range(10):\n",
    "        for b in range(10):\n",
    "            all_bracelets.append(create_bracelet(a, b))\n",
    "    return all_bracelets\n",
    "\n",
    "\n",
    "# Return list of just unique bracelets\n",
    "def unique_bracelets():\n",
    "    all_bracelets = generate_bracelets()\n",
    "    unique = []\n",
    "\n",
    "    for a in all_bracelets:\n",
    "        # Check if this bracelet is already in unique_bracelets\n",
    "        match = False\n",
    "        for b in unique:\n",
    "            if is_same_bracelet(a, b):\n",
    "                match = True\n",
    "                break\n",
    "\n",
    "        # If no match was found, bracelet is unique\n",
    "        if not match:\n",
    "            unique.append(a)\n",
    "\n",
    "    return unique\n",
    "\n",
    "\n",
    "bracelets = unique_bracelets()\n",
    "for u in bracelets:\n",
    "    print(u)\n",
    "print(f'Number of unique bracelets = {len(bracelets)}')"
   ]
  }
 ],
 "metadata": {
  "kernelspec": {
   "display_name": "base",
   "language": "python",
   "name": "python3"
  },
  "language_info": {
   "codemirror_mode": {
    "name": "ipython",
    "version": 3
   },
   "file_extension": ".py",
   "mimetype": "text/x-python",
   "name": "python",
   "nbconvert_exporter": "python",
   "pygments_lexer": "ipython3",
   "version": "3.9.12"
  }
 },
 "nbformat": 4,
 "nbformat_minor": 2
}
